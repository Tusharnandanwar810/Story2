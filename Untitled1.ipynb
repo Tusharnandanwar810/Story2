{
 "cells": [
  {
   "cell_type": "code",
   "execution_count": 1,
   "id": "312fbda5",
   "metadata": {},
   "outputs": [],
   "source": [
    "from autoscraper import AutoScraper"
   ]
  },
  {
   "cell_type": "code",
   "execution_count": 2,
   "id": "e1d653fd",
   "metadata": {},
   "outputs": [],
   "source": [
    "flipkart_url = \"https://www.flipkart.com/search?q=iphones\"\n",
    "\n",
    "wanted_list = [\"₹46,999\",\"APPLE iPhone 11 (White, 128 GB)\"]"
   ]
  },
  {
   "cell_type": "code",
   "execution_count": 3,
   "id": "baa24eb7",
   "metadata": {},
   "outputs": [
    {
     "name": "stdout",
     "output_type": "stream",
     "text": [
      "['₹46,999', '₹41,999', '₹58,999', '₹62,999', '₹64,999', '₹53,999', '₹73,999', 'APPLE iPhone 11 (White, 128 GB)', 'APPLE iPhone 11 (Black, 128 GB)', 'APPLE iPhone 11 (Purple, 128 GB)', 'APPLE iPhone 11 (White, 64 GB)', 'APPLE iPhone 11 (Green, 64 GB)', 'APPLE iPhone 12 (Purple, 128 GB)', 'APPLE iPhone 11 (Red, 128 GB)', 'APPLE iPhone 11 (Purple, 64 GB)', 'APPLE iPhone 11 (Black, 64 GB)', 'APPLE iPhone 12 (Purple, 256 GB)', 'APPLE iPhone 12 (Blue, 128 GB)', 'APPLE iPhone 12 (White, 128 GB)', 'APPLE iPhone 11 (Red, 64 GB)', 'APPLE iPhone 13 Mini (Midnight, 128 GB)', 'APPLE iPhone 12 (Black, 128 GB)', 'APPLE iPhone 12 (Green, 128 GB)', 'APPLE iPhone 12 (Black, 256 GB)', 'APPLE iPhone 12 (Blue, 64 GB)', 'APPLE iPhone 12 (Purple, 64 GB)', 'APPLE iPhone 12 (White, 64 GB)', 'APPLE iPhone 13 Mini ((PRODUCT)RED, 128 GB)', 'APPLE iPhone 12 (Red, 64 GB)', 'APPLE iPhone 13 Mini (Starlight, 128 GB)', 'APPLE iPhone 13 (Starlight, 128 GB)']\n"
     ]
    }
   ],
   "source": [
    "scraper = AutoScraper()\n",
    "result = scraper.build(flipkart_url,wanted_list)\n",
    "print(result)"
   ]
  },
  {
   "cell_type": "code",
   "execution_count": 4,
   "id": "b3710837",
   "metadata": {},
   "outputs": [
    {
     "data": {
      "text/plain": [
       "{'rule_wg80': ['₹46,999',\n",
       "  '₹46,999',\n",
       "  '₹46,999',\n",
       "  '₹41,999',\n",
       "  '₹41,999',\n",
       "  '₹46,999',\n",
       "  '₹58,999',\n",
       "  '₹46,999',\n",
       "  '₹41,999',\n",
       "  '₹41,999',\n",
       "  '₹62,999',\n",
       "  '₹58,999',\n",
       "  '₹58,999',\n",
       "  '₹41,999',\n",
       "  '₹58,999',\n",
       "  '₹64,999',\n",
       "  '₹58,999',\n",
       "  '₹62,999',\n",
       "  '₹53,999',\n",
       "  '₹53,999',\n",
       "  '₹53,999',\n",
       "  '₹64,999',\n",
       "  '₹53,999',\n",
       "  '₹64,999'],\n",
       " 'rule_oysu': ['₹46,999',\n",
       "  '₹46,999',\n",
       "  '₹46,999',\n",
       "  '₹41,999',\n",
       "  '₹41,999',\n",
       "  '₹46,999',\n",
       "  '₹58,999',\n",
       "  '₹46,999',\n",
       "  '₹41,999',\n",
       "  '₹41,999',\n",
       "  '₹62,999',\n",
       "  '₹58,999',\n",
       "  '₹58,999',\n",
       "  '₹41,999',\n",
       "  '₹58,999',\n",
       "  '₹64,999',\n",
       "  '₹58,999',\n",
       "  '₹62,999',\n",
       "  '₹53,999',\n",
       "  '₹53,999',\n",
       "  '₹53,999',\n",
       "  '₹64,999',\n",
       "  '₹53,999',\n",
       "  '₹64,999'],\n",
       " 'rule_5ac2': ['₹46,999',\n",
       "  '₹46,999',\n",
       "  '₹46,999',\n",
       "  '₹41,999',\n",
       "  '₹41,999',\n",
       "  '₹46,999',\n",
       "  '₹58,999',\n",
       "  '₹46,999',\n",
       "  '₹41,999',\n",
       "  '₹41,999',\n",
       "  '₹62,999',\n",
       "  '₹58,999',\n",
       "  '₹58,999',\n",
       "  '₹41,999',\n",
       "  '₹58,999',\n",
       "  '₹64,999',\n",
       "  '₹58,999',\n",
       "  '₹62,999',\n",
       "  '₹53,999',\n",
       "  '₹53,999',\n",
       "  '₹53,999',\n",
       "  '₹64,999',\n",
       "  '₹53,999',\n",
       "  '₹64,999'],\n",
       " 'rule_vjwq': ['₹46,999',\n",
       "  '₹46,999',\n",
       "  '₹46,999',\n",
       "  '₹41,999',\n",
       "  '₹41,999',\n",
       "  '₹46,999',\n",
       "  '₹58,999',\n",
       "  '₹46,999',\n",
       "  '₹41,999',\n",
       "  '₹41,999',\n",
       "  '₹62,999',\n",
       "  '₹58,999',\n",
       "  '₹58,999',\n",
       "  '₹41,999',\n",
       "  '₹58,999',\n",
       "  '₹64,999',\n",
       "  '₹58,999',\n",
       "  '₹62,999',\n",
       "  '₹53,999',\n",
       "  '₹53,999',\n",
       "  '₹53,999',\n",
       "  '₹64,999',\n",
       "  '₹53,999',\n",
       "  '₹64,999'],\n",
       " 'rule_qg95': ['APPLE iPhone 11 (White, 128 GB)',\n",
       "  'APPLE iPhone 11 (Black, 128 GB)',\n",
       "  'APPLE iPhone 11 (Purple, 128 GB)',\n",
       "  'APPLE iPhone 11 (White, 64 GB)',\n",
       "  'APPLE iPhone 11 (Green, 64 GB)',\n",
       "  'APPLE iPhone 11 (Yellow, 128 GB)',\n",
       "  'APPLE iPhone 12 (Purple, 128 GB)',\n",
       "  'APPLE iPhone 11 (Red, 128 GB)',\n",
       "  'APPLE iPhone 11 (Purple, 64 GB)',\n",
       "  'APPLE iPhone 11 (Black, 64 GB)',\n",
       "  'APPLE iPhone 12 (Purple, 256 GB)',\n",
       "  'APPLE iPhone 12 (Blue, 128 GB)',\n",
       "  'APPLE iPhone 12 (White, 128 GB)',\n",
       "  'APPLE iPhone 11 (Red, 64 GB)',\n",
       "  'APPLE iPhone 12 (Black, 128 GB)',\n",
       "  'APPLE iPhone 13 Mini (Midnight, 128 GB)',\n",
       "  'APPLE iPhone 12 (Green, 128 GB)',\n",
       "  'APPLE iPhone 12 (Black, 256 GB)',\n",
       "  'APPLE iPhone 12 (Blue, 64 GB)',\n",
       "  'APPLE iPhone 12 (Purple, 64 GB)',\n",
       "  'APPLE iPhone 12 (White, 64 GB)',\n",
       "  'APPLE iPhone 13 Mini ((PRODUCT)RED, 128 GB)',\n",
       "  'APPLE iPhone 12 (Red, 64 GB)',\n",
       "  'APPLE iPhone 13 Mini (Starlight, 128 GB)'],\n",
       " 'rule_dqmv': ['APPLE iPhone 11 (White, 128 GB)',\n",
       "  'APPLE iPhone 11 (Black, 128 GB)',\n",
       "  'APPLE iPhone 11 (Purple, 128 GB)',\n",
       "  'APPLE iPhone 11 (White, 64 GB)',\n",
       "  'APPLE iPhone 11 (Green, 64 GB)',\n",
       "  'APPLE iPhone 11 (Yellow, 128 GB)',\n",
       "  'APPLE iPhone 12 (Purple, 128 GB)',\n",
       "  'APPLE iPhone 11 (Red, 128 GB)',\n",
       "  'APPLE iPhone 11 (Purple, 64 GB)',\n",
       "  'APPLE iPhone 11 (Black, 64 GB)',\n",
       "  'APPLE iPhone 12 (Purple, 256 GB)',\n",
       "  'APPLE iPhone 12 (Blue, 128 GB)',\n",
       "  'APPLE iPhone 12 (White, 128 GB)',\n",
       "  'APPLE iPhone 11 (Red, 64 GB)',\n",
       "  'APPLE iPhone 12 (Black, 128 GB)',\n",
       "  'APPLE iPhone 13 Mini (Midnight, 128 GB)',\n",
       "  'APPLE iPhone 12 (Green, 128 GB)',\n",
       "  'APPLE iPhone 12 (Black, 256 GB)',\n",
       "  'APPLE iPhone 12 (Blue, 64 GB)',\n",
       "  'APPLE iPhone 12 (Purple, 64 GB)',\n",
       "  'APPLE iPhone 12 (White, 64 GB)',\n",
       "  'APPLE iPhone 13 Mini ((PRODUCT)RED, 128 GB)',\n",
       "  'APPLE iPhone 12 (Red, 64 GB)',\n",
       "  'APPLE iPhone 13 Mini (Starlight, 128 GB)']}"
      ]
     },
     "execution_count": 4,
     "metadata": {},
     "output_type": "execute_result"
    }
   ],
   "source": [
    "# lets group these all\n",
    "scraper.get_result_similar(flipkart_url,grouped=True)"
   ]
  },
  {
   "cell_type": "code",
   "execution_count": 5,
   "id": "f4d2bf79",
   "metadata": {},
   "outputs": [],
   "source": [
    "scraper.set_rule_aliases({'rule_qg95':'Title','rule_oysu':'Price'})\n",
    "scraper.keep_rules(['rule_qg95','rule_oysu'])\n",
    "scraper.save('flipkart-search')"
   ]
  },
  {
   "cell_type": "code",
   "execution_count": 6,
   "id": "d936f592",
   "metadata": {},
   "outputs": [],
   "source": [
    "result = scraper.get_result_similar(\"https://www.flipkart.com/search?q=mobiles\",group_by_alias=True)"
   ]
  },
  {
   "cell_type": "code",
   "execution_count": 8,
   "id": "b49177ff",
   "metadata": {},
   "outputs": [
    {
     "data": {
      "text/plain": [
       "['realme C25_Y (Metal Grey, 64 GB)',\n",
       " 'realme C25_Y (Metal Grey, 128 GB)',\n",
       " 'realme C31 (Dark Green, 32 GB)',\n",
       " 'GREENBERRI FOLD',\n",
       " 'realme C31 (Light Silver, 32 GB)',\n",
       " 'REDMI Note 10S (Deep Sea Blue, 64 GB)',\n",
       " 'realme C31 (Dark Green, 64 GB)',\n",
       " 'IAIR Basic Feature Dual Sim Mobile Phone with 2800mAh Battery, 2.4 inch Display Screen, 0.8 mp Camera ...',\n",
       " 'realme 9 5G (Supersonic Blue, 64 GB)',\n",
       " 'realme 9 5G (Supersonic Black, 64 GB)',\n",
       " 'realme C31 (Light Silver, 64 GB)',\n",
       " 'IAIR S19',\n",
       " 'realme 9 5G (Supersonic Black, 128 GB)',\n",
       " 'realme 9 5G (Supersonic Blue, 128 GB)',\n",
       " 'realme 9 5G (Stargaze White, 64 GB)',\n",
       " 'IAIR D23',\n",
       " 'realme 9 5G (Meteor Black, 64 GB)',\n",
       " 'realme C25_Y (Glacier Blue, 128 GB)',\n",
       " 'Infinix HOT 12 Play (Daylight Green, 64 GB)',\n",
       " 'IAIR D10',\n",
       " 'Infinix HOT 12 Play (Horizon Blue, 64 GB)',\n",
       " 'POCO C31 (Royal Blue, 32 GB)',\n",
       " 'realme 9 5G (Stargaze White, 128 GB)',\n",
       " 'IAIR Basic Feature Dual Sim Mobile Phone with 1200mAh Battery, 1.7 inch Display Screen, 0.8 mp Camera ...']"
      ]
     },
     "execution_count": 8,
     "metadata": {},
     "output_type": "execute_result"
    }
   ],
   "source": [
    "result['Title']"
   ]
  },
  {
   "cell_type": "code",
   "execution_count": null,
   "id": "2c6f7772",
   "metadata": {},
   "outputs": [],
   "source": []
  }
 ],
 "metadata": {
  "kernelspec": {
   "display_name": "Python 3 (ipykernel)",
   "language": "python",
   "name": "python3"
  },
  "language_info": {
   "codemirror_mode": {
    "name": "ipython",
    "version": 3
   },
   "file_extension": ".py",
   "mimetype": "text/x-python",
   "name": "python",
   "nbconvert_exporter": "python",
   "pygments_lexer": "ipython3",
   "version": "3.10.6"
  }
 },
 "nbformat": 4,
 "nbformat_minor": 5
}
