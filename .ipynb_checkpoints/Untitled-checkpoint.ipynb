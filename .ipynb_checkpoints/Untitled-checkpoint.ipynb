{
 "cells": [
  {
   "cell_type": "code",
   "execution_count": 1,
   "id": "5715e253",
   "metadata": {},
   "outputs": [
    {
     "name": "stdout",
     "output_type": "stream",
     "text": [
      "Requirement already satisfied: autoscraper in c:\\users\\tusha\\appdata\\local\\programs\\python\\python310\\lib\\site-packages (1.1.14)\n",
      "Requirement already satisfied: requests in c:\\users\\tusha\\appdata\\local\\programs\\python\\python310\\lib\\site-packages (from autoscraper) (2.28.1)\n",
      "Requirement already satisfied: lxml in c:\\users\\tusha\\appdata\\local\\programs\\python\\python310\\lib\\site-packages (from autoscraper) (4.9.1)\n",
      "Requirement already satisfied: bs4 in c:\\users\\tusha\\appdata\\local\\programs\\python\\python310\\lib\\site-packages (from autoscraper) (0.0.1)\n",
      "Requirement already satisfied: beautifulsoup4 in c:\\users\\tusha\\appdata\\local\\programs\\python\\python310\\lib\\site-packages (from bs4->autoscraper) (4.11.1)\n",
      "Requirement already satisfied: charset-normalizer<3,>=2 in c:\\users\\tusha\\appdata\\local\\programs\\python\\python310\\lib\\site-packages (from requests->autoscraper) (2.1.1)\n",
      "Requirement already satisfied: certifi>=2017.4.17 in c:\\users\\tusha\\appdata\\local\\programs\\python\\python310\\lib\\site-packages (from requests->autoscraper) (2022.6.15)\n",
      "Requirement already satisfied: urllib3<1.27,>=1.21.1 in c:\\users\\tusha\\appdata\\local\\programs\\python\\python310\\lib\\site-packages (from requests->autoscraper) (1.26.11)\n",
      "Requirement already satisfied: idna<4,>=2.5 in c:\\users\\tusha\\appdata\\local\\programs\\python\\python310\\lib\\site-packages (from requests->autoscraper) (3.3)\n",
      "Requirement already satisfied: soupsieve>1.2 in c:\\users\\tusha\\appdata\\local\\programs\\python\\python310\\lib\\site-packages (from beautifulsoup4->bs4->autoscraper) (2.3.2.post1)\n"
     ]
    }
   ],
   "source": [
    "!pip install autoscraper"
   ]
  },
  {
   "cell_type": "code",
   "execution_count": 2,
   "id": "0b1e1366",
   "metadata": {},
   "outputs": [],
   "source": [
    "from autoscraper import AutoScraper"
   ]
  },
  {
   "cell_type": "code",
   "execution_count": 3,
   "id": "f7c3cf41",
   "metadata": {},
   "outputs": [],
   "source": [
    "amazon_url = \"https://www.amazon.in/s?k=iphones\"\n",
    "\n",
    "wanted_list = [\"₹41,999\",\"Apple iPhone 11 (64GB) - Green\"]"
   ]
  },
  {
   "cell_type": "code",
   "execution_count": 4,
   "id": "0a7df71e",
   "metadata": {},
   "outputs": [
    {
     "name": "stdout",
     "output_type": "stream",
     "text": [
      "['₹46,999', '₹49,900', '₹18,499', '₹27,999', '₹41,999', '₹70,900', '₹79,900', '₹71,900', '₹1,29,900', '₹1,39,900', '₹59,490', '₹64,900', '₹1,07,900', '₹1,19,900', '₹53,999', '₹65,900', '₹54,900', '₹54,999', '₹77,900', '₹89,900', '₹76,900', 'Apple iPhone 11 (64GB) - White', '(I:Phone) 6G Gold 64GB with 8 Mega Pixel Camera', 'Apple iPhone 11 (64GB) - Black', 'Apple iPhone 13 (128GB) - Blue', 'Apple iPhone 13 (128GB) - Midnight', 'Apple iPhone 13 (128GB) - Starlight', 'Apple iPhone 13 (128GB) - Green', 'Apple iPhone 13 Pro Max (256GB) - Sierra Blue', 'Apple iPhone 12 Mini (128GB) - White', 'Apple iPhone 13 Pro (128GB) - Sierra Blue', 'Apple iPhone 13 (128GB) - Pink', 'Apple iPhone 12 (64GB) - Black', 'Apple iPhone 11 (64GB) - Green', 'Apple iPhone 12 (64GB) - (Product) RED', 'Apple iPhone 13 (256 GB) - Green', 'Apple iPhone 13 (256GB) - Starlight']\n"
     ]
    }
   ],
   "source": [
    "scraper = AutoScraper()\n",
    "result = scraper.build(amazon_url,wanted_list)\n",
    "print(result)"
   ]
  },
  {
   "cell_type": "code",
   "execution_count": 5,
   "id": "b5a02148",
   "metadata": {},
   "outputs": [
    {
     "data": {
      "text/plain": [
       "{'rule_xnao': ['₹46,999',\n",
       "  '₹49,900',\n",
       "  '₹18,499',\n",
       "  '₹27,999',\n",
       "  '₹41,999',\n",
       "  '₹49,900',\n",
       "  '₹70,900',\n",
       "  '₹79,900',\n",
       "  '₹70,900',\n",
       "  '₹79,900',\n",
       "  '₹71,900',\n",
       "  '₹79,900',\n",
       "  '₹70,900',\n",
       "  '₹79,900',\n",
       "  '₹1,29,900',\n",
       "  '₹1,39,900',\n",
       "  '₹59,490',\n",
       "  '₹64,900',\n",
       "  '₹1,07,900',\n",
       "  '₹1,19,900',\n",
       "  '₹70,900',\n",
       "  '₹79,900',\n",
       "  '₹53,999',\n",
       "  '₹65,900',\n",
       "  '₹41,999',\n",
       "  '₹54,900',\n",
       "  '₹77,900',\n",
       "  '₹89,900',\n",
       "  '₹54,999',\n",
       "  '₹65,900',\n",
       "  '₹77,900',\n",
       "  '₹89,900'],\n",
       " 'rule_vl9s': ['₹46,999',\n",
       "  '₹49,900',\n",
       "  '₹18,499',\n",
       "  '₹27,999',\n",
       "  '₹41,999',\n",
       "  '₹49,900',\n",
       "  '₹70,900',\n",
       "  '₹79,900',\n",
       "  '₹70,900',\n",
       "  '₹79,900',\n",
       "  '₹71,900',\n",
       "  '₹79,900',\n",
       "  '₹70,900',\n",
       "  '₹79,900',\n",
       "  '₹1,29,900',\n",
       "  '₹1,39,900',\n",
       "  '₹59,490',\n",
       "  '₹64,900',\n",
       "  '₹1,07,900',\n",
       "  '₹1,19,900',\n",
       "  '₹70,900',\n",
       "  '₹79,900',\n",
       "  '₹53,999',\n",
       "  '₹65,900',\n",
       "  '₹41,999',\n",
       "  '₹54,900',\n",
       "  '₹77,900',\n",
       "  '₹89,900',\n",
       "  '₹54,999',\n",
       "  '₹65,900',\n",
       "  '₹77,900',\n",
       "  '₹89,900'],\n",
       " 'rule_26qx': ['₹46,999',\n",
       "  '₹49,900',\n",
       "  '₹18,499',\n",
       "  '₹27,999',\n",
       "  '₹41,999',\n",
       "  '₹49,900',\n",
       "  '₹70,900',\n",
       "  '₹79,900',\n",
       "  '₹70,900',\n",
       "  '₹79,900',\n",
       "  '₹71,900',\n",
       "  '₹79,900',\n",
       "  '₹70,900',\n",
       "  '₹79,900',\n",
       "  '₹1,29,900',\n",
       "  '₹1,39,900',\n",
       "  '₹59,490',\n",
       "  '₹64,900',\n",
       "  '₹1,07,900',\n",
       "  '₹1,19,900',\n",
       "  '₹70,900',\n",
       "  '₹79,900',\n",
       "  '₹53,999',\n",
       "  '₹65,900',\n",
       "  '₹41,999',\n",
       "  '₹54,900',\n",
       "  '₹77,900',\n",
       "  '₹89,900',\n",
       "  '₹54,999',\n",
       "  '₹65,900',\n",
       "  '₹77,900',\n",
       "  '₹89,900'],\n",
       " 'rule_2cgt': ['₹46,999',\n",
       "  '₹49,900',\n",
       "  '₹18,499',\n",
       "  '₹27,999',\n",
       "  '₹41,999',\n",
       "  '₹49,900',\n",
       "  '₹70,900',\n",
       "  '₹79,900',\n",
       "  '₹70,900',\n",
       "  '₹79,900',\n",
       "  '₹71,900',\n",
       "  '₹79,900',\n",
       "  '₹70,900',\n",
       "  '₹79,900',\n",
       "  '₹1,29,900',\n",
       "  '₹1,39,900',\n",
       "  '₹59,490',\n",
       "  '₹64,900',\n",
       "  '₹1,07,900',\n",
       "  '₹1,19,900',\n",
       "  '₹70,900',\n",
       "  '₹79,900',\n",
       "  '₹53,999',\n",
       "  '₹65,900',\n",
       "  '₹41,999',\n",
       "  '₹54,900',\n",
       "  '₹77,900',\n",
       "  '₹89,900',\n",
       "  '₹54,999',\n",
       "  '₹65,900',\n",
       "  '₹77,900',\n",
       "  '₹89,900'],\n",
       " 'rule_g3zh': ['₹41,999', '₹49,900', '₹58,900', '₹65,900'],\n",
       " 'rule_feli': ['₹41,999', '₹49,900', '₹58,900', '₹65,900'],\n",
       " 'rule_etg4': ['Apple iPhone 11 (64GB) - White',\n",
       "  '(I:Phone) 6G Gold 64GB with 8 Mega Pixel Camera',\n",
       "  'Apple iPhone 11 (64GB) - Black',\n",
       "  'Apple iPhone 13 (128GB) - Blue',\n",
       "  'Apple iPhone 13 (128GB) - Midnight',\n",
       "  'Apple iPhone 13 (128GB) - Starlight',\n",
       "  'Apple iPhone 13 (128GB) - Green',\n",
       "  'Apple iPhone 13 Pro Max (256GB) - Sierra Blue',\n",
       "  'Apple iPhone 12 Mini (128GB) - White',\n",
       "  'Apple iPhone 13 Pro (128GB) - Sierra Blue',\n",
       "  'Apple iPhone 13 (128GB) - Pink',\n",
       "  'Apple iPhone 12 (64GB) - Black',\n",
       "  'Apple iPhone 11 (64GB) - Green',\n",
       "  'Apple iPhone 13 (256GB) - Blue',\n",
       "  'Apple iPhone 12 (64GB) - (Product) RED',\n",
       "  'Apple iPhone 13 (256 GB) - Green'],\n",
       " 'rule_7kh9': ['Apple iPhone 11 (64GB) - White',\n",
       "  '(I:Phone) 6G Gold 64GB with 8 Mega Pixel Camera',\n",
       "  'Apple iPhone 11 (64GB) - Black',\n",
       "  'Apple iPhone 13 (128GB) - Blue',\n",
       "  'Apple iPhone 13 (128GB) - Midnight',\n",
       "  'Apple iPhone 13 (128GB) - Starlight',\n",
       "  'Apple iPhone 13 (128GB) - Green',\n",
       "  'Apple iPhone 13 Pro Max (256GB) - Sierra Blue',\n",
       "  'Apple iPhone 12 Mini (128GB) - White',\n",
       "  'Apple iPhone 13 Pro (128GB) - Sierra Blue',\n",
       "  'Apple iPhone 13 (128GB) - Pink',\n",
       "  'Apple iPhone 12 (64GB) - Black',\n",
       "  'Apple iPhone 11 (64GB) - Green',\n",
       "  'Apple iPhone 13 (256GB) - Blue',\n",
       "  'Apple iPhone 12 (64GB) - (Product) RED',\n",
       "  'Apple iPhone 13 (256 GB) - Green'],\n",
       " 'rule_ua0m': ['Apple iPhone 11 (64GB) - Black',\n",
       "  'Apple iPhone 12 (64GB) - Purple']}"
      ]
     },
     "execution_count": 5,
     "metadata": {},
     "output_type": "execute_result"
    }
   ],
   "source": [
    "# Lets Group these all\n",
    "scraper.get_result_similar(amazon_url,grouped=True)"
   ]
  },
  {
   "cell_type": "code",
   "execution_count": 6,
   "id": "e0784f53",
   "metadata": {},
   "outputs": [
    {
     "ename": "KeyError",
     "evalue": "'rule_8mal'",
     "output_type": "error",
     "traceback": [
      "\u001b[1;31m---------------------------------------------------------------------------\u001b[0m",
      "\u001b[1;31mKeyError\u001b[0m                                  Traceback (most recent call last)",
      "Input \u001b[1;32mIn [6]\u001b[0m, in \u001b[0;36m<cell line: 1>\u001b[1;34m()\u001b[0m\n\u001b[1;32m----> 1\u001b[0m \u001b[43mscraper\u001b[49m\u001b[38;5;241;43m.\u001b[39;49m\u001b[43mset_rule_aliases\u001b[49m\u001b[43m(\u001b[49m\u001b[43m{\u001b[49m\u001b[38;5;124;43m'\u001b[39;49m\u001b[38;5;124;43mrule_8mal\u001b[39;49m\u001b[38;5;124;43m'\u001b[39;49m\u001b[43m:\u001b[49m\u001b[38;5;124;43m'\u001b[39;49m\u001b[38;5;124;43mTitle\u001b[39;49m\u001b[38;5;124;43m'\u001b[39;49m\u001b[43m,\u001b[49m\u001b[38;5;124;43m'\u001b[39;49m\u001b[38;5;124;43mrule_8rnr\u001b[39;49m\u001b[38;5;124;43m'\u001b[39;49m\u001b[43m:\u001b[49m\u001b[38;5;124;43m'\u001b[39;49m\u001b[38;5;124;43mPrice\u001b[39;49m\u001b[38;5;124;43m'\u001b[39;49m\u001b[43m}\u001b[49m\u001b[43m)\u001b[49m\n\u001b[0;32m      2\u001b[0m scraper\u001b[38;5;241m.\u001b[39mkeep_rules([\u001b[38;5;124m'\u001b[39m\u001b[38;5;124mrule_8mal\u001b[39m\u001b[38;5;124m'\u001b[39m,\u001b[38;5;124m'\u001b[39m\u001b[38;5;124mrule_8rnr\u001b[39m\u001b[38;5;124m'\u001b[39m])\n\u001b[0;32m      3\u001b[0m scraper\u001b[38;5;241m.\u001b[39msave(\u001b[38;5;124m'\u001b[39m\u001b[38;5;124mamazon-search\u001b[39m\u001b[38;5;124m'\u001b[39m)\n",
      "File \u001b[1;32m~\\AppData\\Local\\Programs\\Python\\Python310\\lib\\site-packages\\autoscraper\\auto_scraper.py:719\u001b[0m, in \u001b[0;36mAutoScraper.set_rule_aliases\u001b[1;34m(self, rule_aliases)\u001b[0m\n\u001b[0;32m    717\u001b[0m id_to_stack \u001b[38;5;241m=\u001b[39m {stack[\u001b[38;5;124m\"\u001b[39m\u001b[38;5;124mstack_id\u001b[39m\u001b[38;5;124m\"\u001b[39m]: stack \u001b[38;5;28;01mfor\u001b[39;00m stack \u001b[38;5;129;01min\u001b[39;00m \u001b[38;5;28mself\u001b[39m\u001b[38;5;241m.\u001b[39mstack_list}\n\u001b[0;32m    718\u001b[0m \u001b[38;5;28;01mfor\u001b[39;00m rule_id, alias \u001b[38;5;129;01min\u001b[39;00m rule_aliases\u001b[38;5;241m.\u001b[39mitems():\n\u001b[1;32m--> 719\u001b[0m     \u001b[43mid_to_stack\u001b[49m\u001b[43m[\u001b[49m\u001b[43mrule_id\u001b[49m\u001b[43m]\u001b[49m[\u001b[38;5;124m\"\u001b[39m\u001b[38;5;124malias\u001b[39m\u001b[38;5;124m\"\u001b[39m] \u001b[38;5;241m=\u001b[39m alias\n",
      "\u001b[1;31mKeyError\u001b[0m: 'rule_8mal'"
     ]
    }
   ],
   "source": [
    "scraper.set_rule_aliases({'rule_8mal':'Title','rule_xnao':'Price'})\n",
    "scraper.keep_rules(['rule_8mal','rule_xnao'])\n",
    "scraper.save('amazon-search')"
   ]
  },
  {
   "cell_type": "code",
   "execution_count": null,
   "id": "6dcb01fd",
   "metadata": {},
   "outputs": [],
   "source": [
    "results = scraper.get_result_similar('https://www.amazon.in/s?k=mi+phones+under+15000', group_by_alias=True)"
   ]
  },
  {
   "cell_type": "code",
   "execution_count": null,
   "id": "18567385",
   "metadata": {},
   "outputs": [],
   "source": [
    "results['Title']"
   ]
  },
  {
   "cell_type": "code",
   "execution_count": null,
   "id": "20fd1a5e",
   "metadata": {},
   "outputs": [],
   "source": []
  }
 ],
 "metadata": {
  "kernelspec": {
   "display_name": "Python 3 (ipykernel)",
   "language": "python",
   "name": "python3"
  },
  "language_info": {
   "codemirror_mode": {
    "name": "ipython",
    "version": 3
   },
   "file_extension": ".py",
   "mimetype": "text/x-python",
   "name": "python",
   "nbconvert_exporter": "python",
   "pygments_lexer": "ipython3",
   "version": "3.10.6"
  }
 },
 "nbformat": 4,
 "nbformat_minor": 5
}
